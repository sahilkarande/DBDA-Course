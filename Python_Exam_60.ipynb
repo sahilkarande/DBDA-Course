{
 "cells": [
  {
   "cell_type": "code",
   "execution_count": 79,
   "id": "983b444d-1e94-4aaa-a26a-450dc7ff63db",
   "metadata": {},
   "outputs": [
    {
     "name": "stdout",
     "output_type": "stream",
     "text": [
      "t\n"
     ]
    }
   ],
   "source": [
    "def pangram_check(string12):\n",
    "    string12 = string12.lower()\n",
    "    alphabets_2 = ['abcdefghijklmnopqrstuvwxyz']\n",
    "    for char in string12:\n",
    "        if char not in alphabets_2:\n",
    "            return char\n",
    "        else:\n",
    "            return \"Not found\"\n",
    "string1 = 'The quick brown fox jumps over the lazy dog'\n",
    "print(pangram_check(string1))"
   ]
  },
  {
   "cell_type": "code",
   "execution_count": 123,
   "id": "c47023d4-93bb-4512-b87d-674c989b9053",
   "metadata": {},
   "outputs": [
    {
     "ename": "SyntaxError",
     "evalue": "invalid syntax (2672076466.py, line 15)",
     "output_type": "error",
     "traceback": [
      "\u001b[1;36m  Cell \u001b[1;32mIn[123], line 15\u001b[1;36m\u001b[0m\n\u001b[1;33m    self.stock['Category'] = {'Electronics' : {electronic_product_quantity+=1}}\u001b[0m\n\u001b[1;37m                                                                          ^\u001b[0m\n\u001b[1;31mSyntaxError\u001b[0m\u001b[1;31m:\u001b[0m invalid syntax\n"
     ]
    }
   ],
   "source": [
    "#2) Inventory Management System\n",
    "product_id = 000\n",
    "class Inventory():\n",
    "    def __init__(self):\n",
    "        self.stock = {}\n",
    "    def add_product(self):\n",
    "        product_id += 1\n",
    "        self.stock['Category'] = {'Electronics' : {self.electronic_product_quantity}}\n",
    "    def electronic_products(self):\n",
    "        electronic_product_quantity = 0\n",
    "        product_name = input(\"Enter the product name: \")\n",
    "        price = int(input(\"Enter the price of the product: \"))\n",
    "        print(\"Product added successfully\")\n",
    "        electronic_product_quantity += 1\n",
    "        self.stock['Category'] = {'Electronics' : {electronic_product_quantity+=1}}\n",
    "    def clothing_products(self):\n",
    "        clothing_product_quantity = 0\n",
    "        product_name = input(\"Enter the product name: \")\n",
    "        price = int(input(\"Enter the price of the product: \"))\n",
    "        clothing_product_quantity += 1\n",
    "        print(\"Product added successfully\")\n",
    "    def grocery_products(self):\n",
    "        grocery_product_quantity = 0\n",
    "        product_name = input(\"Enter the product name: \")\n",
    "        price = int(input(\"Enter the price of the product: \"))\n",
    "        grocery_product_quantity += 1\n",
    "        print(\"Product added successfully\")\n",
    "    def display_products(self):\n",
    "        print(self.stock)\n",
    "    \n",
    "inventory= Inventory()\n",
    "while True: \n",
    "    print(\"Inventory\")\n",
    "    print(\"1. Add Electronic Product\")\n",
    "    print(\"2. Add Clothing Product\")\n",
    "    print(\"3. Add Grocery Product\")\n",
    "    print(\"4. Display Stocks product\")\n",
    "    print(\"5. Exit\")\n",
    "    choice = int(input(\"Enter the choice: \"))\n",
    "\n",
    "    if choice == 1:\n",
    "        inventory.electronic_products()\n",
    "    elif choice == 2:\n",
    "        inventory.clothing_products()\n",
    "    elif choice == 3:\n",
    "        inventory.grocery_products()\n",
    "    elif choice == 4:\n",
    "        inventory.display_products()\n",
    "    elif choice == 5:\n",
    "        print(\"Thank you\")\n",
    "        break\n",
    "    else:\n",
    "        print(\"Invalid Choice\")"
   ]
  },
  {
   "cell_type": "code",
   "execution_count": 111,
   "id": "a453eac4-19c0-4270-8c6f-6baaddbdb4e4",
   "metadata": {},
   "outputs": [
    {
     "name": "stdin",
     "output_type": "stream",
     "text": [
      "Enter the string to continue:  sd\n"
     ]
    },
    {
     "name": "stdout",
     "output_type": "stream",
     "text": [
      "list[['sd']]\n",
      "list[['qweqw']]\n"
     ]
    }
   ],
   "source": [
    "string1 = input(\"Enter the string to continue: \").split()\n",
    "\n",
    "print(list[string1])\n",
    "print(string2)"
   ]
  },
  {
   "cell_type": "code",
   "execution_count": null,
   "id": "f0032923-51f2-45bb-99b4-e80dc3c7e7ea",
   "metadata": {},
   "outputs": [],
   "source": []
  }
 ],
 "metadata": {
  "kernelspec": {
   "display_name": "Python 3 (ipykernel)",
   "language": "python",
   "name": "python3"
  },
  "language_info": {
   "codemirror_mode": {
    "name": "ipython",
    "version": 3
   },
   "file_extension": ".py",
   "mimetype": "text/x-python",
   "name": "python",
   "nbconvert_exporter": "python",
   "pygments_lexer": "ipython3",
   "version": "3.10.0"
  }
 },
 "nbformat": 4,
 "nbformat_minor": 5
}
